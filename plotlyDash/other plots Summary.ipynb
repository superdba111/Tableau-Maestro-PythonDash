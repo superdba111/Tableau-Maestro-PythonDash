{
 "cells": [
  {
   "cell_type": "markdown",
   "metadata": {},
   "source": [
    "# Pyhon other plot libraries\n",
    "\n",
    "Seaborn, matplotlib, ggplot, Bokeh, pygal, geoplotlib, Gleam, missingno, Leather etc...\n",
    "\n",
    "http://pbpython.com/visualization-tools-1.html\n",
    "\n",
    "https://blog.modeanalytics.com/python-data-visualization-libraries/\n",
    "\n",
    "https://lisacharlotterost.github.io/2016/05/17/one-chart-code/\n",
    "\n",
    "graphX in spark, mainly for a big data application especailly for internet companies to calculate web pages rank etc\n",
    "\n",
    "https://spark.apache.org/docs/latest/graphx-programming-guide.html#graph-builders\n",
    "\n"
   ]
  },
  {
   "cell_type": "markdown",
   "metadata": {},
   "source": [
    "you can mixedly use them together in your design, for example, you can replace Violinplot in Seaborn with your boxplot.\n",
    "\n",
    "Here is general guide for other dashboard componenets used in dashboards"
   ]
  },
  {
   "cell_type": "markdown",
   "metadata": {},
   "source": [
    "# Table\n",
    "When to use it\n",
    "Use a table, when you want to view detailed data and precise values rather than visualizations of values. Tables are good when you want to compare individual values. Drill-down group dimensions are very efficient in tables. Within a limited space, you can drill down to the next level of detail and analyze the updated measure values.\n",
    "\n",
    "Advantages\n",
    "You can filter and sort the table in different ways. Many values can be included in a table, and when you drill down in a table, you make good use of a limited space of the sheet. A table is excellent when you want to see exact values rather than trends or patterns.\n",
    "\n",
    "Disadvantages\n",
    "If the table contains many values, it is difficult to get an overview of how values are related. It is also hard to identify an irregularity within the table."
   ]
  },
  {
   "cell_type": "markdown",
   "metadata": {},
   "source": [
    "# Pivot Table\n",
    "\n",
    "The pivot table presents dimensions and measures as rows and columns of a table. The pivot table allows you to analyze data by multiple measures and in multiple dimensions at the same time. The data in a pivot table may be grouped based on a combination of the dimensions. You can pivot by dragging and dropping dimensions in the table.\n",
    "\n",
    "When to use it\n",
    "The pivot table is particularly useful when you want to include several dimensions or measures in a single table, and then want to reorganize them to see different subtotals.\n",
    "\n",
    "Advantages\n",
    "The pivot table is very powerful when you want to analyze multiple dimensions and measures at once, and then reorganize them to get a different perspective on your data. Another advantage is that you can expand the rows you are interested in while keeping the rows in the rest of the table collapsed.\n",
    "\n",
    "Disadvantages\n",
    "The pivot table may seem a bit complicated, and does not give insights at a glance."
   ]
  },
  {
   "cell_type": "markdown",
   "metadata": {},
   "source": [
    "# Map\n",
    "\n",
    "When to use it\n",
    "You can use a map to show the geographical distribution of offices, stores, and other sites of business interest. You can visualize not only locations but also sales values and other measures and display the value differences by bubble size or color.\n",
    "\n",
    "Advantages\n",
    "The map is a versatile visualization that efficiently presents the geographical distribution of key values related to location or area.\n",
    "\n",
    "Disadvantages\n",
    "With a large number of values, it may be hard to get a good overview. Values may be placed on top of each other and not visible until zoomed in."
   ]
  },
  {
   "cell_type": "markdown",
   "metadata": {},
   "source": [
    "# KPI\n",
    "Key performance indicators (KPIs) are used to evaluate the performance in a company or an organization. The KPIs show to what extent a number of goals have been reached. Different organizations have different goals, and it is important that the goals are well defined so that they are valid and reliable.\n",
    "\n",
    "When to use it\n",
    "Use KPIs to get an overview of performance values that are central to an organization. Use color coding and symbols to indicate how the figures relate to the expected results.\n",
    "\n",
    "Advantages\n",
    "KPIs give a quick understanding of the performance within an area.\n",
    "\n",
    "Disadvantages\n",
    "The KPI is somewhat limited when it comes to graphical components. You can use symbols to help illustrate the performance, but if you want a more conspicuous component, consider using a gauge.\n",
    "\n",
    "Adding context to KPIs\n",
    "KPIs are a great way to communicate some of the big ideas inside your app. However KPI values do not provide any context to the number and calculations that are happening behind the scenes. A green light next to a KPI does not tell the reader if the goal was barely achieved or if you greatly surpassed it.\n",
    "\n",
    "To help bring context to your KPIs, include supporting information next to the value in smaller text. For example, you can compare the current KPI value with the value from the previous year. You can also add a small chart (line or bar) without axes or values to provide information about the current trend."
   ]
  },
  {
   "cell_type": "markdown",
   "metadata": {},
   "source": [
    "# Gauge---Variant of KPI (also check KPI matrix, hist etc)\n",
    "\n",
    "The gauge is often used to present KPIs, for example, on an executive dashboard, and together with segmenting and color coding, it is an effective way of illustrating a performance result.\n",
    "\n",
    "It is important to set relevant max and min values to support the interpretation of the value. You can use a reference line to provide additional context.\n",
    "\n",
    "Advantages\n",
    "A gauge is easy to read and understand and gives an instant indication of the performance within an area.\n",
    "\n",
    "Disadvantages\n",
    "The gauge is quite space-demanding in relation to the single value it visualizes.\n",
    "\n",
    "Although visually compelling, the gauge is not always the best choice for presenting a single measure value. Problems when deciding the max and min values can indicate that some other visualization should be used.\n",
    "\n",
    "If you only want to show a performance value, without a gauge, consider using a KPI instead."
   ]
  },
  {
   "cell_type": "markdown",
   "metadata": {},
   "source": [
    "# TreeMap\n",
    "\n",
    "Treemaps are used to display hierarchical data. You can drill down in the data, and the theoretical number of levels is almost limitless. You reach the practical limit before you reach the theoretical limit.\n",
    "\n",
    "When to use it\n",
    "Use a treemap when space is constrained and you have a large amount of hierarchical data that you need to get an overview of. Treemaps should primarily be used with values that can be aggregated.\n",
    "\n",
    "Advantages\n",
    "Treemaps are economical in that they can be used within a limited space and yet display a large number of items simultaneously.\n",
    "\n",
    "When there is a correlation between color and size in the tree structure, you are able to see patterns that would be difficult to spot in other ways, for example, when a certain color is particularly relevant.\n",
    "\n",
    "Disadvantages\n",
    "Treemaps are not good when there is a big difference in the magnitude of the measure values. Nor is a treemap the right choice when mixing absolute and relative values.\n",
    "\n",
    "Negative values cannot be displayed in treemaps."
   ]
  },
  {
   "cell_type": "markdown",
   "metadata": {},
   "source": [
    "# Text and images, links\n",
    "\n",
    "When to use it\n",
    "Use on the first sheet of an app for essential information.\n",
    "Display a company image, or use a background image together with formatted text and measure values to present figures in a compelling way.\n",
    "Link to sites with additional information.\n",
    "Use the responsive behavior to ensure that the visualization renders well on all devices.\n",
    "Advantages\n",
    "The text & image visualization contrasts with the other visualizations. You have many options for making the text & image visualization stand out next to more regular charts.\n",
    "\n",
    "Disadvantages\n",
    "You are limited to a few measure values and rather short texts, otherwise the text & image visualization will be cluttered"
   ]
  },
  {
   "cell_type": "code",
   "execution_count": null,
   "metadata": {},
   "outputs": [],
   "source": []
  }
 ],
 "metadata": {
  "kernelspec": {
   "display_name": "Python 3",
   "language": "python",
   "name": "python3"
  },
  "language_info": {
   "codemirror_mode": {
    "name": "ipython",
    "version": 3
   },
   "file_extension": ".py",
   "mimetype": "text/x-python",
   "name": "python",
   "nbconvert_exporter": "python",
   "pygments_lexer": "ipython3",
   "version": "3.6.5"
  }
 },
 "nbformat": 4,
 "nbformat_minor": 2
}
