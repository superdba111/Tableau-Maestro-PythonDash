{
 "cells": [
  {
   "cell_type": "markdown",
   "metadata": {},
   "source": [
    "A bubble chart is a variation of a scatter chart in which the data points are replaced with bubbles, and an additional dimension of the data is represented in the size of the bubbles. Just like a scatter chart, a bubble chart does not use a category axis — both horizontal and vertical axes are value axes. In addition to the x values and y values that are plotted in a scatter chart, a bubble chart plots x values, y values, and z (size) values.\n",
    "\n",
    "Don’t force the bubble on your data\n",
    "\n",
    "The bubble chart is designed to visually convey three or four dimensions of data, which is more than just marketing buzz. This means your data needs to have at least three fields on your record that you’ll want to convey graphically all at once.\n",
    "\n",
    "You can use a bubble chart instead of a scatter chart if your data has three data series that each contain a set of values. The sizes of the bubbles are determined by the values in the third data series.\n",
    "\n",
    "Think about Bubble chart in the map app, you can get idea why we have Bubble chart "
   ]
  },
  {
   "cell_type": "code",
   "execution_count": 1,
   "metadata": {},
   "outputs": [],
   "source": [
    "import plotly.plotly as py\n",
    "import plotly.graph_objs as go\n",
    "import random\n",
    "import numpy as np\n",
    "import pandas as pd"
   ]
  },
  {
   "cell_type": "code",
   "execution_count": 2,
   "metadata": {},
   "outputs": [],
   "source": [
    "import plotly\n",
    "plotly.tools.set_credentials_file(username='superdba111', api_key='fKct7UA8ZFVGdpU1HUrX')"
   ]
  },
  {
   "cell_type": "code",
   "execution_count": 4,
   "metadata": {},
   "outputs": [],
   "source": [
    "df = pd.read_csv('D:\\Project\\python-spark\\hw\\Plotly-Dash\\Data/mpg.csv')"
   ]
  },
  {
   "cell_type": "code",
   "execution_count": 5,
   "metadata": {},
   "outputs": [
    {
     "data": {
      "text/html": [
       "<div>\n",
       "<style scoped>\n",
       "    .dataframe tbody tr th:only-of-type {\n",
       "        vertical-align: middle;\n",
       "    }\n",
       "\n",
       "    .dataframe tbody tr th {\n",
       "        vertical-align: top;\n",
       "    }\n",
       "\n",
       "    .dataframe thead th {\n",
       "        text-align: right;\n",
       "    }\n",
       "</style>\n",
       "<table border=\"1\" class=\"dataframe\">\n",
       "  <thead>\n",
       "    <tr style=\"text-align: right;\">\n",
       "      <th></th>\n",
       "      <th>mpg</th>\n",
       "      <th>cylinders</th>\n",
       "      <th>displacement</th>\n",
       "      <th>horsepower</th>\n",
       "      <th>weight</th>\n",
       "      <th>acceleration</th>\n",
       "      <th>model_year</th>\n",
       "      <th>origin</th>\n",
       "      <th>name</th>\n",
       "    </tr>\n",
       "  </thead>\n",
       "  <tbody>\n",
       "    <tr>\n",
       "      <th>0</th>\n",
       "      <td>18.0</td>\n",
       "      <td>8</td>\n",
       "      <td>307.0</td>\n",
       "      <td>130</td>\n",
       "      <td>3504</td>\n",
       "      <td>12.0</td>\n",
       "      <td>70</td>\n",
       "      <td>1</td>\n",
       "      <td>chevrolet chevelle malibu</td>\n",
       "    </tr>\n",
       "    <tr>\n",
       "      <th>1</th>\n",
       "      <td>15.0</td>\n",
       "      <td>8</td>\n",
       "      <td>350.0</td>\n",
       "      <td>165</td>\n",
       "      <td>3693</td>\n",
       "      <td>11.5</td>\n",
       "      <td>70</td>\n",
       "      <td>1</td>\n",
       "      <td>buick skylark 320</td>\n",
       "    </tr>\n",
       "    <tr>\n",
       "      <th>2</th>\n",
       "      <td>18.0</td>\n",
       "      <td>8</td>\n",
       "      <td>318.0</td>\n",
       "      <td>150</td>\n",
       "      <td>3436</td>\n",
       "      <td>11.0</td>\n",
       "      <td>70</td>\n",
       "      <td>1</td>\n",
       "      <td>plymouth satellite</td>\n",
       "    </tr>\n",
       "  </tbody>\n",
       "</table>\n",
       "</div>"
      ],
      "text/plain": [
       "    mpg  cylinders  displacement horsepower  weight  acceleration  model_year  \\\n",
       "0  18.0          8         307.0        130    3504          12.0          70   \n",
       "1  15.0          8         350.0        165    3693          11.5          70   \n",
       "2  18.0          8         318.0        150    3436          11.0          70   \n",
       "\n",
       "   origin                       name  \n",
       "0       1  chevrolet chevelle malibu  \n",
       "1       1          buick skylark 320  \n",
       "2       1         plymouth satellite  "
      ]
     },
     "execution_count": 5,
     "metadata": {},
     "output_type": "execute_result"
    }
   ],
   "source": [
    "df.head(3)"
   ]
  },
  {
   "cell_type": "code",
   "execution_count": 6,
   "metadata": {},
   "outputs": [],
   "source": [
    "data = [go.Scatter(          # start with a normal scatter plot\n",
    "    x=df['horsepower'],\n",
    "    y=df['mpg'],\n",
    "    text=df['name'],\n",
    "    mode='markers',\n",
    "    marker=dict(size=1.5*df['cylinders']) # set the marker size\n",
    ")]\n",
    "\n",
    "layout = go.Layout(\n",
    "    title='Vehicle mpg vs. horsepower',\n",
    "    xaxis = dict(title = 'horsepower'), # x-axis label\n",
    "    yaxis = dict(title = 'mpg'),        # y-axis label\n",
    "    hovermode='closest'\n",
    ")"
   ]
  },
  {
   "cell_type": "code",
   "execution_count": 7,
   "metadata": {},
   "outputs": [
    {
     "data": {
      "text/plain": [
       "'https://plot.ly/~superdba111/30'"
      ]
     },
     "execution_count": 7,
     "metadata": {},
     "output_type": "execute_result"
    }
   ],
   "source": [
    "fig = go.Figure(data=data, layout=layout)\n",
    "py.plot(fig, filename='bubble1.html')"
   ]
  },
  {
   "cell_type": "code",
   "execution_count": 8,
   "metadata": {},
   "outputs": [
    {
     "data": {
      "text/plain": [
       "'https://plot.ly/~superdba111/32'"
      ]
     },
     "execution_count": 8,
     "metadata": {},
     "output_type": "execute_result"
    }
   ],
   "source": [
    "# Add columns to the DataFrame to convert model year to a string and\n",
    "# then combine it with name so that hover text shows both:\n",
    "df['text1']=pd.Series(df['model_year'],dtype=str)\n",
    "df['text2']=\"'\"+df['text1']+\" \"+df['name']\n",
    "\n",
    "data = [go.Scatter(\n",
    "            x=df['horsepower'],\n",
    "            y=df['mpg'],\n",
    "            text=df['text2'],  # use the new column for the hover text\n",
    "            mode='markers',\n",
    "            marker=dict(size=1.5*df['cylinders'])\n",
    "    )]\n",
    "layout = go.Layout(\n",
    "    title='Vehicle mpg vs. horsepower',\n",
    "    hovermode='closest'\n",
    ")\n",
    "fig = go.Figure(data=data, layout=layout)\n",
    "py.plot(fig, filename='bubble2.html')"
   ]
  },
  {
   "cell_type": "code",
   "execution_count": 9,
   "metadata": {},
   "outputs": [
    {
     "data": {
      "text/plain": [
       "'https://plot.ly/~superdba111/34'"
      ]
     },
     "execution_count": 9,
     "metadata": {},
     "output_type": "execute_result"
    }
   ],
   "source": [
    "# create data by choosing fields for x, y and marker size attributes\n",
    "data = [go.Scatter(\n",
    "    x=df['displacement'],\n",
    "    y=df['acceleration'],\n",
    "    text=df['name'],\n",
    "    mode='markers',\n",
    "    marker=dict(size=df['weight']/500)\n",
    ")]\n",
    "\n",
    "# create a layout with a title and axis labels\n",
    "layout = go.Layout(\n",
    "    title='Vehicle acceleration vs. displacement',\n",
    "    xaxis = dict(title = 'displacement'),\n",
    "    yaxis = dict(title = 'acceleration = seconds to reach 60mph'),\n",
    "    hovermode='closest'\n",
    ")\n",
    "\n",
    "# create a fig from data & layout, and plot the fig\n",
    "fig = go.Figure(data=data, layout=layout)\n",
    "py.plot(fig, filename='solution4.html')\n",
    "#######\n",
    "# So what happened?? Why is the trend sloping downward?\n",
    "# Remember that acceleration is the number of seconds to go from 0 to 60mph,\n",
    "# so fewer seconds means faster acceleration!\n",
    "######"
   ]
  },
  {
   "cell_type": "code",
   "execution_count": null,
   "metadata": {},
   "outputs": [],
   "source": []
  }
 ],
 "metadata": {
  "kernelspec": {
   "display_name": "Python 3",
   "language": "python",
   "name": "python3"
  },
  "language_info": {
   "codemirror_mode": {
    "name": "ipython",
    "version": 3
   },
   "file_extension": ".py",
   "mimetype": "text/x-python",
   "name": "python",
   "nbconvert_exporter": "python",
   "pygments_lexer": "ipython3",
   "version": "3.6.5"
  }
 },
 "nbformat": 4,
 "nbformat_minor": 2
}
