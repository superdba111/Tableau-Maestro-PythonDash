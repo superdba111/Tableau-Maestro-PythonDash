{
 "cells": [
  {
   "cell_type": "markdown",
   "metadata": {},
   "source": [
    "From wiki and my understanding\n",
    "\n",
    "A histogram is an accurate representation of the distribution of numerical data. It is an estimate of the probability distribution of a continuous variable (quantitative variable) and was first introduced by Karl Pearson.[1] It differs from a bar graph, in the sense that a bar graph relates two variables, but a histogram relates only one. To construct a histogram, the first step is to \"bin\" the range of values—that is, divide the entire range of values into a series of intervals—and then count how many values fall into each interval. The bins are usually specified as consecutive, non-overlapping intervals of a variable. The bins (intervals) must be adjacent, and are often (but are not required to be) of equal size\n",
    "\n",
    "Histograms are sometimes confused with bar charts. A histogram is used for continuous data, where the bins represent ranges of data, while a bar chart is a plot of categorical variables. Some authors recommend that bar charts have gaps between the rectangles to clarify the distinction, The major difference is that a histogram is only used to plot the frequency of score occurrences in a continuous data set that has been divided into classes, called bins. Bar charts, on the other hand, can be used for a great deal of other types of variables including ordinal and nominal data sets.\n",
    "\n",
    "when to use it---The histogram is suitable for visualizing distribution of numerical data over a continuous interval, or a certain time period. The key to use it is how to select bin size.\n",
    "\n",
    "Advantages\n",
    "The histogram organizes large amounts of data, and produces a visualization quickly, using a single dimension.\n",
    "\n",
    "Disadvantages\n",
    "The histogram is not relevant for detailed analysis of the data as it deals with a summary of the data distribution."
   ]
  },
  {
   "cell_type": "code",
   "execution_count": 1,
   "metadata": {},
   "outputs": [],
   "source": [
    "import plotly.plotly as py\n",
    "import plotly.graph_objs as go\n",
    "import random\n",
    "import numpy as np\n",
    "import pandas as pd"
   ]
  },
  {
   "cell_type": "code",
   "execution_count": 3,
   "metadata": {},
   "outputs": [],
   "source": [
    "import plotly\n",
    "plotly.tools.set_credentials_file(username='superdba111', api_key='fKct7UA8ZFVGdpU1HUrX')"
   ]
  },
  {
   "cell_type": "code",
   "execution_count": 6,
   "metadata": {},
   "outputs": [
    {
     "data": {
      "text/plain": [
       "'https://plot.ly/~superdba111/44'"
      ]
     },
     "execution_count": 6,
     "metadata": {},
     "output_type": "execute_result"
    }
   ],
   "source": [
    "df = pd.read_csv('Plotly-Dash/data/mpg.csv')\n",
    "\n",
    "data = [go.Histogram(\n",
    "    x=df['mpg'],\n",
    "    xbins=dict(start=8,end=50,size=1),\n",
    ")]\n",
    "\n",
    "layout = go.Layout(\n",
    "    title=\"Miles per Gallon Frequencies of<br>\\\n",
    "    1970's Era Vehicles\"\n",
    ")\n",
    "fig = go.Figure(data=data, layout=layout)\n",
    "py.plot(fig, filename='basic_histogram.html')"
   ]
  },
  {
   "cell_type": "code",
   "execution_count": 7,
   "metadata": {},
   "outputs": [
    {
     "data": {
      "text/plain": [
       "'https://plot.ly/~superdba111/46'"
      ]
     },
     "execution_count": 7,
     "metadata": {},
     "output_type": "execute_result"
    }
   ],
   "source": [
    "#######\n",
    "# This histogram compares heights by gender\n",
    "######\n",
    "\n",
    "df = pd.read_csv('Plotly-Dash/data/arrhythmia.csv')\n",
    "\n",
    "data = [go.Histogram(\n",
    "    x=df[df['Sex']==0]['Height'],\n",
    "    opacity=0.75,\n",
    "    name='Male'\n",
    "),\n",
    "go.Histogram(\n",
    "    x=df[df['Sex']==1]['Height'],\n",
    "    opacity=0.75,\n",
    "    name='Female'\n",
    ")]\n",
    "\n",
    "layout = go.Layout(\n",
    "    barmode='overlay',\n",
    "    title=\"Height comparison by gender\"\n",
    ")\n",
    "fig = go.Figure(data=data, layout=layout)\n",
    "py.plot(fig, filename='basic_histogram2.html')"
   ]
  },
  {
   "cell_type": "code",
   "execution_count": 9,
   "metadata": {},
   "outputs": [
    {
     "data": {
      "text/plain": [
       "'https://plot.ly/~superdba111/48'"
      ]
     },
     "execution_count": 9,
     "metadata": {},
     "output_type": "execute_result"
    }
   ],
   "source": [
    "# create a DataFrame from the .csv file:\n",
    "df = pd.read_csv('Plotly-Dash/data/abalone.csv')\n",
    "\n",
    "# create a data variable:\n",
    "data = [go.Histogram(\n",
    "    x=df['length'],\n",
    "    xbins=dict(start=0,end=1,size=.02),\n",
    ")]\n",
    "\n",
    "# add a layout\n",
    "layout = go.Layout(\n",
    "    title=\"Shell lengths from the Abalone dataset\"\n",
    ")\n",
    "\n",
    "# create a fig from data & layout, and plot the fig\n",
    "fig = go.Figure(data=data, layout=layout)\n",
    "py.plot(fig, filename='solution6.html')"
   ]
  },
  {
   "cell_type": "code",
   "execution_count": null,
   "metadata": {},
   "outputs": [],
   "source": []
  }
 ],
 "metadata": {
  "kernelspec": {
   "display_name": "Python 3",
   "language": "python",
   "name": "python3"
  },
  "language_info": {
   "codemirror_mode": {
    "name": "ipython",
    "version": 3
   },
   "file_extension": ".py",
   "mimetype": "text/x-python",
   "name": "python",
   "nbconvert_exporter": "python",
   "pygments_lexer": "ipython3",
   "version": "3.6.5"
  }
 },
 "nbformat": 4,
 "nbformat_minor": 2
}
