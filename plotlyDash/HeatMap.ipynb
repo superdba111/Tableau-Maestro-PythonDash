{
 "cells": [
  {
   "cell_type": "markdown",
   "metadata": {},
   "source": [
    "https://en.wikipedia.org/wiki/Heat_map\n",
    "\n",
    "Heatmaps provide a good way to see, at a glance, how ‘popular’ the elements on a certain page are. This is particularly useful for comparing elements that are given similar prominence on the page.\n",
    "\n",
    "when to use it ---overview and at a glance\n",
    "\n",
    "Heatmaps visualise data through variations in colouring. When applied to a tabular format, Heatmaps are useful for cross-examining multivariate data, through placing variables in the rows and columns and colouring the cells within the table. Heatmaps are good for showing variance across multiple variables, revealing any patterns, displaying whether any variables are similar to each other, and for detecting if any correlations exist in-between them\n",
    "\n",
    "Adv Vs DisAdv\n",
    "\n",
    "Heatmaps are a chart better suited to displaying a more generalised view of numerical data, as it’s harder to accurately tell the differences between colour shades and to extract specific data points from (unless of course, you include the raw data in the cells).\n",
    "\n",
    "Heatmaps can also be used to show the changes in data over time if one of the rows or columns are set to time intervals. An example of this would be to use a Heatmap to compare the temperature changes across the year in multiple cities, to see where’s the hottest or coldest places. So the rows could list the cities to compare, the columns contain each month and the cells would contain the temperature values."
   ]
  },
  {
   "cell_type": "code",
   "execution_count": 6,
   "metadata": {},
   "outputs": [],
   "source": [
    "import plotly.plotly as py\n",
    "import plotly.graph_objs as go\n",
    "import plotly.figure_factory as ff\n",
    "import random\n",
    "import numpy as np\n",
    "import pandas as pd\n",
    "from plotly import tools"
   ]
  },
  {
   "cell_type": "code",
   "execution_count": 7,
   "metadata": {},
   "outputs": [],
   "source": [
    "import plotly\n",
    "plotly.tools.set_credentials_file(username='superdba111', api_key='fKct7UA8ZFVGdpU1HUrX')"
   ]
  },
  {
   "cell_type": "code",
   "execution_count": 8,
   "metadata": {},
   "outputs": [
    {
     "name": "stdout",
     "output_type": "stream",
     "text": [
      "This is the format of your plot grid:\n",
      "[ (1,1) x1,y1 ]  [ (1,2) x2,y1 ]  [ (1,3) x3,y1 ]\n",
      "\n"
     ]
    },
    {
     "data": {
      "text/plain": [
       "'https://plot.ly/~superdba111/18'"
      ]
     },
     "execution_count": 8,
     "metadata": {},
     "output_type": "execute_result"
    }
   ],
   "source": [
    "df1 = pd.read_csv('Plotly-Dash/data/2010SitkaAK.csv')\n",
    "df2 = pd.read_csv('Plotly-Dash/data/2010SantaBarbaraCA.csv')\n",
    "df3 = pd.read_csv('Plotly-Dash/data/2010YumaAZ.csv')\n",
    "\n",
    "trace1 = go.Heatmap(\n",
    "    x=df1['DAY'],\n",
    "    y=df1['LST_TIME'],\n",
    "    z=df1['T_HR_AVG'],\n",
    "    colorscale='Jet',\n",
    "    zmin = 5, zmax = 40 # add max/min color values to make each plot consistent\n",
    ")\n",
    "trace2 = go.Heatmap(\n",
    "    x=df2['DAY'],\n",
    "    y=df2['LST_TIME'],\n",
    "    z=df2['T_HR_AVG'],\n",
    "    colorscale='Jet',\n",
    "    zmin = 5, zmax = 40\n",
    ")\n",
    "trace3 = go.Heatmap(\n",
    "    x=df3['DAY'],\n",
    "    y=df3['LST_TIME'],\n",
    "    z=df3['T_HR_AVG'],\n",
    "    colorscale='Jet',\n",
    "    zmin = 5, zmax = 40\n",
    ")\n",
    "\n",
    "fig = tools.make_subplots(rows=1, cols=3,\n",
    "    subplot_titles=('Sitka, AK','Santa Barbara, CA', 'Yuma, AZ'),\n",
    "    shared_yaxes = True,  # this makes the hours appear only on the left\n",
    ")\n",
    "fig.append_trace(trace1, 1, 1)\n",
    "fig.append_trace(trace2, 1, 2)\n",
    "fig.append_trace(trace3, 1, 3)\n",
    "\n",
    "fig['layout'].update(      # access the layout directly!\n",
    "    title='Hourly Temperatures, June 1-7, 2010'\n",
    ")\n",
    "py.plot(fig, filename='ex1.html')"
   ]
  },
  {
   "cell_type": "code",
   "execution_count": 9,
   "metadata": {},
   "outputs": [
    {
     "data": {
      "text/plain": [
       "'https://plot.ly/~superdba111/18'"
      ]
     },
     "execution_count": 9,
     "metadata": {},
     "output_type": "execute_result"
    }
   ],
   "source": [
    "df = pd.read_csv('Plotly-Dash/data/flights.csv')\n",
    "\n",
    "# Define a data variable\n",
    "data = [go.Heatmap(\n",
    "    x=df['year'],\n",
    "    y=df['month'],\n",
    "    z=df['passengers']\n",
    ")]\n",
    "\n",
    "# Define the layout\n",
    "layout = go.Layout(\n",
    "    title='Flights'\n",
    ")\n",
    "# Create a fig from data and layout, and plot the fig\n",
    "fig = go.Figure(data=data, layout=layout)\n",
    "py.plot(fig, filename='ex1.html')"
   ]
  },
  {
   "cell_type": "code",
   "execution_count": null,
   "metadata": {},
   "outputs": [],
   "source": []
  }
 ],
 "metadata": {
  "kernelspec": {
   "display_name": "Python 3",
   "language": "python",
   "name": "python3"
  },
  "language_info": {
   "codemirror_mode": {
    "name": "ipython",
    "version": 3
   },
   "file_extension": ".py",
   "mimetype": "text/x-python",
   "name": "python",
   "nbconvert_exporter": "python",
   "pygments_lexer": "ipython3",
   "version": "3.6.5"
  }
 },
 "nbformat": 4,
 "nbformat_minor": 2
}
