{
 "cells": [
  {
   "cell_type": "markdown",
   "metadata": {},
   "source": [
    "The  dist or combo chart is suitable for comparing two sets of measure values that are usually hard to compare because of the differences in scale. A typical example is when you have a bar chart with sales figures and want to combine these figures with the margin values (in percent). In a regular bar chart, the bars for sales would be displayed as usual, but the margin values would be almost invisible because of the very large difference between the numeric values for sales and margin.\n",
    "\n",
    "When to use it\n",
    "With the possibility to have different measure scales, one to the left and one to the right, the combo chart is ideal when you want to present measure values that are normally hard to combine because of the significant difference in value ranges.\n",
    "\n",
    "But a combo chart can also be quite useful when comparing values of the same value range. In the image above, the combo chart only has one measure axis, but the relationship between the two categories sales and cost is clear.\n",
    "\n",
    "Advantages\n",
    "The combo chart is the best choice when combining several measures of different value ranges.\n",
    "\n",
    "Disadvantages\n",
    "The combo chart only supports one dimension, and can therefore not be used when you need to include two or more dimensions in the visualization."
   ]
  },
  {
   "cell_type": "code",
   "execution_count": 4,
   "metadata": {},
   "outputs": [],
   "source": [
    "import plotly.plotly as py\n",
    "import plotly.graph_objs as go\n",
    "import plotly.figure_factory as ff\n",
    "import random\n",
    "import numpy as np\n",
    "import pandas as pd"
   ]
  },
  {
   "cell_type": "code",
   "execution_count": 5,
   "metadata": {},
   "outputs": [],
   "source": [
    "import plotly\n",
    "plotly.tools.set_credentials_file(username='superdba111', api_key='fKct7UA8ZFVGdpU1HUrX')"
   ]
  },
  {
   "cell_type": "code",
   "execution_count": 7,
   "metadata": {},
   "outputs": [
    {
     "data": {
      "text/plain": [
       "'https://plot.ly/~superdba111/18'"
      ]
     },
     "execution_count": 7,
     "metadata": {},
     "output_type": "execute_result"
    }
   ],
   "source": [
    "x = np.random.randn(1000)\n",
    "hist_data = [x]\n",
    "group_labels = ['distplot']\n",
    "\n",
    "fig = ff.create_distplot(hist_data, group_labels)\n",
    "py.plot(fig, filename='ex1.html')"
   ]
  },
  {
   "cell_type": "code",
   "execution_count": 9,
   "metadata": {},
   "outputs": [
    {
     "data": {
      "text/plain": [
       "'https://plot.ly/~superdba111/18'"
      ]
     },
     "execution_count": 9,
     "metadata": {},
     "output_type": "execute_result"
    }
   ],
   "source": [
    "x1 = np.random.randn(200)-2\n",
    "x2 = np.random.randn(200)\n",
    "x3 = np.random.randn(200)+2\n",
    "x4 = np.random.randn(200)+4\n",
    "\n",
    "hist_data = [x1,x2,x3,x4]\n",
    "group_labels = ['Group1','Group2','Group3','Group4']\n",
    "\n",
    "fig = ff.create_distplot(hist_data, group_labels)\n",
    "py.plot(fig, filename='ex1.html')"
   ]
  },
  {
   "cell_type": "code",
   "execution_count": 11,
   "metadata": {},
   "outputs": [
    {
     "data": {
      "text/plain": [
       "'https://plot.ly/~superdba111/18'"
      ]
     },
     "execution_count": 11,
     "metadata": {},
     "output_type": "execute_result"
    }
   ],
   "source": [
    "snodgrass = [.209,.205,.196,.210,.202,.207,.224,.223,.220,.201]\n",
    "twain = [.225,.262,.217,.240,.230,.229,.235,.217]\n",
    "\n",
    "hist_data = [snodgrass,twain]\n",
    "group_labels = ['Snodgrass','Twain']\n",
    "\n",
    "fig = ff.create_distplot(hist_data, group_labels, bin_size=[.005,.005])\n",
    "py.plot(fig, filename='ex1.html')"
   ]
  },
  {
   "cell_type": "code",
   "execution_count": 13,
   "metadata": {},
   "outputs": [
    {
     "data": {
      "text/plain": [
       "'https://plot.ly/~superdba111/18'"
      ]
     },
     "execution_count": 13,
     "metadata": {},
     "output_type": "execute_result"
    }
   ],
   "source": [
    "# create a DataFrame from the .csv file:\n",
    "df = pd.read_csv('Plotly-Dash/data/iris.csv')\n",
    "\n",
    "# Define the traces\n",
    "trace0 = df[df['class']=='Iris-setosa']['petal_length']\n",
    "trace1 = df[df['class']=='Iris-versicolor']['petal_length']\n",
    "trace2 = df[df['class']=='Iris-virginica']['petal_length']\n",
    "\n",
    "# Define a data variable\n",
    "hist_data = [trace0, trace1, trace2]\n",
    "group_labels = ['Iris Setosa','Iris Versicolor','Iris Virginica']\n",
    "\n",
    "# Create a fig from data and layout, and plot the fig\n",
    "fig = ff.create_distplot(hist_data, group_labels)\n",
    "py.plot(fig, filename='ex1.html')"
   ]
  },
  {
   "cell_type": "code",
   "execution_count": null,
   "metadata": {},
   "outputs": [],
   "source": []
  }
 ],
 "metadata": {
  "kernelspec": {
   "display_name": "Python 3",
   "language": "python",
   "name": "python3"
  },
  "language_info": {
   "codemirror_mode": {
    "name": "ipython",
    "version": 3
   },
   "file_extension": ".py",
   "mimetype": "text/x-python",
   "name": "python",
   "nbconvert_exporter": "python",
   "pygments_lexer": "ipython3",
   "version": "3.6.5"
  }
 },
 "nbformat": 4,
 "nbformat_minor": 2
}
