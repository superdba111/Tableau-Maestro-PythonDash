{
 "cells": [
  {
   "cell_type": "code",
   "execution_count": 1,
   "metadata": {
    "ExecuteTime": {
     "end_time": "2019-01-25T14:29:09.988582Z",
     "start_time": "2019-01-25T14:29:09.815778Z"
    }
   },
   "outputs": [
    {
     "name": "stdout",
     "output_type": "stream",
     "text": [
      "Help on package tableauserverclient:\n",
      "\n",
      "NAME\n",
      "    tableauserverclient\n",
      "\n",
      "PACKAGE CONTENTS\n",
      "    _version\n",
      "    datetime_helpers\n",
      "    filesys_helpers\n",
      "    models (package)\n",
      "    namespace\n",
      "    server (package)\n",
      "\n",
      "DATA\n",
      "    DEFAULT_NAMESPACE = 'http://tableau.com/api'\n",
      "    __VERSION__ = '0.7'\n",
      "\n",
      "VERSION\n",
      "    0.7\n",
      "\n",
      "FILE\n",
      "    d:\\anaconda3\\lib\\site-packages\\tableauserverclient\\__init__.py\n",
      "\n",
      "\n"
     ]
    }
   ],
   "source": [
    "import tableauserverclient\n",
    "help(tableauserverclient)\n",
    "#help(tableauserverclient.server)"
   ]
  },
  {
   "cell_type": "code",
   "execution_count": 5,
   "metadata": {
    "ExecuteTime": {
     "end_time": "2019-01-25T14:32:40.664115Z",
     "start_time": "2019-01-25T14:32:40.655124Z"
    }
   },
   "outputs": [
    {
     "name": "stdout",
     "output_type": "stream",
     "text": [
      "Help on package tableauserverclient.models in tableauserverclient:\n",
      "\n",
      "NAME\n",
      "    tableauserverclient.models\n",
      "\n",
      "PACKAGE CONTENTS\n",
      "    connection_credentials\n",
      "    connection_item\n",
      "    datasource_item\n",
      "    exceptions\n",
      "    fileupload_item\n",
      "    group_item\n",
      "    interval_item\n",
      "    job_item\n",
      "    pagination_item\n",
      "    project_item\n",
      "    property_decorators\n",
      "    schedule_item\n",
      "    server_info_item\n",
      "    site_item\n",
      "    subscription_item\n",
      "    tableau_auth\n",
      "    tag_item\n",
      "    target\n",
      "    task_item\n",
      "    user_item\n",
      "    view_item\n",
      "    workbook_item\n",
      "\n",
      "FILE\n",
      "    d:\\anaconda3\\lib\\site-packages\\tableauserverclient\\models\\__init__.py\n",
      "\n",
      "\n"
     ]
    }
   ],
   "source": [
    "help(tableauserverclient.models)"
   ]
  },
  {
   "cell_type": "code",
   "execution_count": 2,
   "metadata": {
    "ExecuteTime": {
     "end_time": "2019-01-25T14:29:20.038442Z",
     "start_time": "2019-01-25T14:29:20.030447Z"
    }
   },
   "outputs": [
    {
     "name": "stdout",
     "output_type": "stream",
     "text": [
      "Help on package tableauserverclient.server in tableauserverclient:\n",
      "\n",
      "NAME\n",
      "    tableauserverclient.server\n",
      "\n",
      "PACKAGE CONTENTS\n",
      "    endpoint (package)\n",
      "    exceptions\n",
      "    filter\n",
      "    pager\n",
      "    request_factory\n",
      "    request_options\n",
      "    server\n",
      "    sort\n",
      "\n",
      "FILE\n",
      "    d:\\anaconda3\\lib\\site-packages\\tableauserverclient\\server\\__init__.py\n",
      "\n",
      "\n"
     ]
    }
   ],
   "source": [
    "help(tableauserverclient.server)"
   ]
  },
  {
   "cell_type": "code",
   "execution_count": 3,
   "metadata": {
    "ExecuteTime": {
     "end_time": "2019-01-25T14:31:13.403997Z",
     "start_time": "2019-01-25T14:31:13.392897Z"
    }
   },
   "outputs": [
    {
     "data": {
      "text/plain": [
       "['BackgroundJobItem',\n",
       " 'CSVRequestOptions',\n",
       " 'ConnectionCredentials',\n",
       " 'ConnectionItem',\n",
       " 'DEFAULT_NAMESPACE',\n",
       " 'DailyInterval',\n",
       " 'DatasourceItem',\n",
       " 'Filter',\n",
       " 'GroupItem',\n",
       " 'HourlyInterval',\n",
       " 'ImageRequestOptions',\n",
       " 'IntervalItem',\n",
       " 'JobItem',\n",
       " 'MissingRequiredFieldError',\n",
       " 'MonthlyInterval',\n",
       " 'NotSignedInError',\n",
       " 'PDFRequestOptions',\n",
       " 'Pager',\n",
       " 'PaginationItem',\n",
       " 'ProjectItem',\n",
       " 'RequestOptions',\n",
       " 'ScheduleItem',\n",
       " 'Server',\n",
       " 'ServerResponseError',\n",
       " 'SiteItem',\n",
       " 'Sort',\n",
       " 'SubscriptionItem',\n",
       " 'TableauAuth',\n",
       " 'TaskItem',\n",
       " 'UnpopulatedPropertyError',\n",
       " 'UserItem',\n",
       " 'ViewItem',\n",
       " 'WeeklyInterval',\n",
       " 'WorkbookItem',\n",
       " '__VERSION__',\n",
       " '__builtins__',\n",
       " '__cached__',\n",
       " '__doc__',\n",
       " '__file__',\n",
       " '__loader__',\n",
       " '__name__',\n",
       " '__package__',\n",
       " '__path__',\n",
       " '__spec__',\n",
       " '__version__',\n",
       " '_version',\n",
       " 'datetime_helpers',\n",
       " 'filesys_helpers',\n",
       " 'models',\n",
       " 'namespace',\n",
       " 'server']"
      ]
     },
     "execution_count": 3,
     "metadata": {},
     "output_type": "execute_result"
    }
   ],
   "source": [
    "dir(tableauserverclient)"
   ]
  },
  {
   "cell_type": "code",
   "execution_count": 4,
   "metadata": {
    "ExecuteTime": {
     "end_time": "2019-01-25T14:31:46.411281Z",
     "start_time": "2019-01-25T14:31:46.406327Z"
    }
   },
   "outputs": [
    {
     "data": {
      "text/plain": [
       "['Auth',\n",
       " 'BackgroundJobItem',\n",
       " 'CSVRequestOptions',\n",
       " 'ConnectionItem',\n",
       " 'DatasourceItem',\n",
       " 'Datasources',\n",
       " 'Endpoint',\n",
       " 'Filter',\n",
       " 'GroupItem',\n",
       " 'Groups',\n",
       " 'ImageRequestOptions',\n",
       " 'JobItem',\n",
       " 'MissingRequiredFieldError',\n",
       " 'NotSignedInError',\n",
       " 'PDFRequestOptions',\n",
       " 'Pager',\n",
       " 'PaginationItem',\n",
       " 'ProjectItem',\n",
       " 'Projects',\n",
       " 'RequestFactory',\n",
       " 'RequestOptions',\n",
       " 'ScheduleItem',\n",
       " 'Schedules',\n",
       " 'Server',\n",
       " 'ServerResponseError',\n",
       " 'SiteItem',\n",
       " 'Sites',\n",
       " 'Sort',\n",
       " 'SubscriptionItem',\n",
       " 'Subscriptions',\n",
       " 'TableauAuth',\n",
       " 'TaskItem',\n",
       " 'UserItem',\n",
       " 'Users',\n",
       " 'ViewItem',\n",
       " 'Views',\n",
       " 'WorkbookItem',\n",
       " 'Workbooks',\n",
       " '__builtins__',\n",
       " '__cached__',\n",
       " '__doc__',\n",
       " '__file__',\n",
       " '__loader__',\n",
       " '__name__',\n",
       " '__package__',\n",
       " '__path__',\n",
       " '__spec__',\n",
       " 'endpoint',\n",
       " 'exceptions',\n",
       " 'filter',\n",
       " 'pager',\n",
       " 'request_factory',\n",
       " 'request_options',\n",
       " 'server',\n",
       " 'sort']"
      ]
     },
     "execution_count": 4,
     "metadata": {},
     "output_type": "execute_result"
    }
   ],
   "source": [
    "dir(tableauserverclient.server)"
   ]
  },
  {
   "cell_type": "code",
   "execution_count": 6,
   "metadata": {
    "ExecuteTime": {
     "end_time": "2019-01-25T14:33:44.780333Z",
     "start_time": "2019-01-25T14:33:44.774331Z"
    }
   },
   "outputs": [
    {
     "data": {
      "text/plain": [
       "['__class__',\n",
       " '__delattr__',\n",
       " '__dict__',\n",
       " '__dir__',\n",
       " '__doc__',\n",
       " '__eq__',\n",
       " '__format__',\n",
       " '__ge__',\n",
       " '__getattribute__',\n",
       " '__gt__',\n",
       " '__hash__',\n",
       " '__init__',\n",
       " '__init_subclass__',\n",
       " '__le__',\n",
       " '__lt__',\n",
       " '__module__',\n",
       " '__ne__',\n",
       " '__new__',\n",
       " '__reduce__',\n",
       " '__reduce_ex__',\n",
       " '__repr__',\n",
       " '__setattr__',\n",
       " '__sizeof__',\n",
       " '__str__',\n",
       " '__subclasshook__',\n",
       " '__weakref__',\n",
       " '_check_status',\n",
       " '_get_wbs_for_user',\n",
       " '_make_common_headers',\n",
       " '_make_request',\n",
       " '_safe_to_log',\n",
       " 'add',\n",
       " 'baseurl',\n",
       " 'delete_request',\n",
       " 'get',\n",
       " 'get_by_id',\n",
       " 'get_request',\n",
       " 'get_unauthenticated_request',\n",
       " 'populate_favorites',\n",
       " 'populate_workbooks',\n",
       " 'post_request',\n",
       " 'put_request',\n",
       " 'remove',\n",
       " 'update']"
      ]
     },
     "execution_count": 6,
     "metadata": {},
     "output_type": "execute_result"
    }
   ],
   "source": [
    "dir(tableauserverclient.server.Users)"
   ]
  },
  {
   "cell_type": "code",
   "execution_count": 7,
   "metadata": {
    "ExecuteTime": {
     "end_time": "2019-01-25T14:34:24.245610Z",
     "start_time": "2019-01-25T14:34:24.239614Z"
    }
   },
   "outputs": [
    {
     "data": {
      "text/plain": [
       "['__annotations__',\n",
       " '__call__',\n",
       " '__class__',\n",
       " '__closure__',\n",
       " '__code__',\n",
       " '__defaults__',\n",
       " '__delattr__',\n",
       " '__dict__',\n",
       " '__dir__',\n",
       " '__doc__',\n",
       " '__eq__',\n",
       " '__format__',\n",
       " '__ge__',\n",
       " '__get__',\n",
       " '__getattribute__',\n",
       " '__globals__',\n",
       " '__gt__',\n",
       " '__hash__',\n",
       " '__init__',\n",
       " '__init_subclass__',\n",
       " '__kwdefaults__',\n",
       " '__le__',\n",
       " '__lt__',\n",
       " '__module__',\n",
       " '__name__',\n",
       " '__ne__',\n",
       " '__new__',\n",
       " '__qualname__',\n",
       " '__reduce__',\n",
       " '__reduce_ex__',\n",
       " '__repr__',\n",
       " '__setattr__',\n",
       " '__sizeof__',\n",
       " '__str__',\n",
       " '__subclasshook__',\n",
       " '__wrapped__']"
      ]
     },
     "execution_count": 7,
     "metadata": {},
     "output_type": "execute_result"
    }
   ],
   "source": [
    "dir(tableauserverclient.server.Users.add)"
   ]
  },
  {
   "cell_type": "code",
   "execution_count": 8,
   "metadata": {
    "ExecuteTime": {
     "end_time": "2019-01-25T14:34:42.172312Z",
     "start_time": "2019-01-25T14:34:42.159363Z"
    }
   },
   "outputs": [
    {
     "name": "stdout",
     "output_type": "stream",
     "text": [
      "Help on class Users in module tableauserverclient.server.endpoint.users_endpoint:\n",
      "\n",
      "class Users(tableauserverclient.server.endpoint.endpoint.Endpoint)\n",
      " |  Method resolution order:\n",
      " |      Users\n",
      " |      tableauserverclient.server.endpoint.endpoint.Endpoint\n",
      " |      builtins.object\n",
      " |  \n",
      " |  Methods defined here:\n",
      " |  \n",
      " |  add(self, user_item)\n",
      " |  \n",
      " |  get(self, req_options=None)\n",
      " |  \n",
      " |  get_by_id(self, user_id)\n",
      " |  \n",
      " |  populate_favorites(self, user_item)\n",
      " |  \n",
      " |  populate_workbooks(self, user_item, req_options=None)\n",
      " |  \n",
      " |  remove(self, user_id)\n",
      " |  \n",
      " |  update(self, user_item, password=None)\n",
      " |  \n",
      " |  ----------------------------------------------------------------------\n",
      " |  Data descriptors defined here:\n",
      " |  \n",
      " |  baseurl\n",
      " |  \n",
      " |  ----------------------------------------------------------------------\n",
      " |  Methods inherited from tableauserverclient.server.endpoint.endpoint.Endpoint:\n",
      " |  \n",
      " |  __init__(self, parent_srv)\n",
      " |      Initialize self.  See help(type(self)) for accurate signature.\n",
      " |  \n",
      " |  delete_request(self, url)\n",
      " |  \n",
      " |  get_request(self, url, request_object=None, parameters=None)\n",
      " |  \n",
      " |  get_unauthenticated_request(self, url, request_object=None)\n",
      " |  \n",
      " |  post_request(self, url, xml_request, content_type='text/xml')\n",
      " |  \n",
      " |  put_request(self, url, xml_request=None, content_type='text/xml')\n",
      " |  \n",
      " |  ----------------------------------------------------------------------\n",
      " |  Data descriptors inherited from tableauserverclient.server.endpoint.endpoint.Endpoint:\n",
      " |  \n",
      " |  __dict__\n",
      " |      dictionary for instance variables (if defined)\n",
      " |  \n",
      " |  __weakref__\n",
      " |      list of weak references to the object (if defined)\n",
      "\n"
     ]
    }
   ],
   "source": [
    "help(tableauserverclient.server.Users)"
   ]
  },
  {
   "cell_type": "code",
   "execution_count": 9,
   "metadata": {
    "ExecuteTime": {
     "end_time": "2019-01-25T14:36:25.521549Z",
     "start_time": "2019-01-25T14:36:25.512551Z"
    }
   },
   "outputs": [
    {
     "name": "stdout",
     "output_type": "stream",
     "text": [
      "Help on class Groups in module tableauserverclient.server.endpoint.groups_endpoint:\n",
      "\n",
      "class Groups(tableauserverclient.server.endpoint.endpoint.Endpoint)\n",
      " |  Method resolution order:\n",
      " |      Groups\n",
      " |      tableauserverclient.server.endpoint.endpoint.Endpoint\n",
      " |      builtins.object\n",
      " |  \n",
      " |  Methods defined here:\n",
      " |  \n",
      " |  add_user(self, group_item, user_id)\n",
      " |  \n",
      " |  create(self, group_item)\n",
      " |  \n",
      " |  delete(self, group_id)\n",
      " |  \n",
      " |  get(self, req_options=None)\n",
      " |  \n",
      " |  populate_users(self, group_item, req_options=None)\n",
      " |  \n",
      " |  remove_user(self, group_item, user_id)\n",
      " |  \n",
      " |  update(self, group_item, default_site_role='Unlicensed')\n",
      " |  \n",
      " |  ----------------------------------------------------------------------\n",
      " |  Data descriptors defined here:\n",
      " |  \n",
      " |  baseurl\n",
      " |  \n",
      " |  ----------------------------------------------------------------------\n",
      " |  Methods inherited from tableauserverclient.server.endpoint.endpoint.Endpoint:\n",
      " |  \n",
      " |  __init__(self, parent_srv)\n",
      " |      Initialize self.  See help(type(self)) for accurate signature.\n",
      " |  \n",
      " |  delete_request(self, url)\n",
      " |  \n",
      " |  get_request(self, url, request_object=None, parameters=None)\n",
      " |  \n",
      " |  get_unauthenticated_request(self, url, request_object=None)\n",
      " |  \n",
      " |  post_request(self, url, xml_request, content_type='text/xml')\n",
      " |  \n",
      " |  put_request(self, url, xml_request=None, content_type='text/xml')\n",
      " |  \n",
      " |  ----------------------------------------------------------------------\n",
      " |  Data descriptors inherited from tableauserverclient.server.endpoint.endpoint.Endpoint:\n",
      " |  \n",
      " |  __dict__\n",
      " |      dictionary for instance variables (if defined)\n",
      " |  \n",
      " |  __weakref__\n",
      " |      list of weak references to the object (if defined)\n",
      "\n"
     ]
    }
   ],
   "source": [
    "help(tableauserverclient.server.Groups)"
   ]
  },
  {
   "cell_type": "code",
   "execution_count": 10,
   "metadata": {
    "ExecuteTime": {
     "end_time": "2019-01-25T14:36:59.658646Z",
     "start_time": "2019-01-25T14:36:59.654642Z"
    }
   },
   "outputs": [
    {
     "name": "stdout",
     "output_type": "stream",
     "text": [
      "Help on function add_user in module tableauserverclient.server.endpoint.groups_endpoint:\n",
      "\n",
      "add_user(self, group_item, user_id)\n",
      "\n"
     ]
    }
   ],
   "source": [
    "help(tableauserverclient.server.Groups.add_user)"
   ]
  },
  {
   "cell_type": "code",
   "execution_count": null,
   "metadata": {},
   "outputs": [],
   "source": []
  }
 ],
 "metadata": {
  "kernelspec": {
   "display_name": "Python 3",
   "language": "python",
   "name": "python3"
  },
  "language_info": {
   "codemirror_mode": {
    "name": "ipython",
    "version": 3
   },
   "file_extension": ".py",
   "mimetype": "text/x-python",
   "name": "python",
   "nbconvert_exporter": "python",
   "pygments_lexer": "ipython3",
   "version": "3.6.6"
  },
  "toc": {
   "base_numbering": 1,
   "nav_menu": {},
   "number_sections": true,
   "sideBar": true,
   "skip_h1_title": false,
   "title_cell": "Table of Contents",
   "title_sidebar": "Contents",
   "toc_cell": false,
   "toc_position": {},
   "toc_section_display": true,
   "toc_window_display": false
  },
  "varInspector": {
   "cols": {
    "lenName": 16,
    "lenType": 16,
    "lenVar": 40
   },
   "kernels_config": {
    "python": {
     "delete_cmd_postfix": "",
     "delete_cmd_prefix": "del ",
     "library": "var_list.py",
     "varRefreshCmd": "print(var_dic_list())"
    },
    "r": {
     "delete_cmd_postfix": ") ",
     "delete_cmd_prefix": "rm(",
     "library": "var_list.r",
     "varRefreshCmd": "cat(var_dic_list()) "
    }
   },
   "types_to_exclude": [
    "module",
    "function",
    "builtin_function_or_method",
    "instance",
    "_Feature"
   ],
   "window_display": false
  }
 },
 "nbformat": 4,
 "nbformat_minor": 2
}
